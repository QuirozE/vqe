{
 "cells": [
  {
   "cell_type": "markdown",
   "metadata": {},
   "source": [
    "# Task 4\n",
    "\n",
    "Find the lowest eigenvalue of the following matrix:\n",
    "\n",
    "$$\n",
    "\\begin{pmatrix}\n",
    "    1 & 0 & 0 & 0 \\\\\n",
    "    0 & 0 & -1 & 0 \\\\\n",
    "    0 & -1 & 0 & 0 \\\\\n",
    "    0 & 0 & 0 & 1\n",
    "\\end{pmatrix}\n",
    "$$\n",
    "\n",
    "using VQE-like circuits, created by yourself from scratch.\n"
   ]
  },
  {
   "cell_type": "code",
   "execution_count": 1,
   "metadata": {},
   "outputs": [],
   "source": [
    "from qiskit import QuantumCircuit, Aer, execute\n",
    "from qiskit.aqua.operators import I, X, Y, Z\n",
    "import numpy as np\n",
    "from matplotlib import pyplot as plt"
   ]
  },
  {
   "cell_type": "markdown",
   "metadata": {},
   "source": [
    "## Pauli decomposition"
   ]
  },
  {
   "cell_type": "code",
   "execution_count": 2,
   "metadata": {},
   "outputs": [],
   "source": [
    "def pauli_ops(n):\n",
    "    from itertools import product\n",
    "    from functools import reduce\n",
    "    \n",
    "    basis1 = [I, X, Y, Z]\n",
    "    \n",
    "    basis_n_lists = product([g for g in basis1], repeat=n)\n",
    "    \n",
    "    basis_n = [reduce(lambda g, h: g^h, l) for l in basis_n_lists]\n",
    "\n",
    "    return basis_n\n",
    "\n",
    "def basis_change_matrix(M):\n",
    "    M_t = np.vstack(tuple(g.flatten() for g in M))\n",
    "    return M_t.T\n",
    "\n",
    "def to_pauli_op(A):\n",
    "    from math import log2\n",
    "    \n",
    "    n = log2(len(A))\n",
    "    \n",
    "    m, k = A.shape\n",
    "    if not n.is_integer() or m != k:\n",
    "        raise ValueError('Pauli decomposition is only possible for 2^n x 2^n matrices')\n",
    "    \n",
    "    basis_ops = pauli_ops(int(n))\n",
    "    \n",
    "    M = basis_change_matrix([op.to_matrix() for op in basis_ops])\n",
    "    \n",
    "    coeffs = np.linalg.solve(M, A.flatten())\n",
    "    \n",
    "    d = [c * op for c, op in zip(coeffs, basis_ops) if c != 0]\n",
    "\n",
    "    return sum(d)"
   ]
  },
  {
   "cell_type": "code",
   "execution_count": 3,
   "metadata": {},
   "outputs": [
    {
     "name": "stdout",
     "output_type": "stream",
     "text": [
      "SummedOp([\n",
      "  (0.5+0j) * II,\n",
      "  (-0.5+0j) * XX,\n",
      "  (-0.5-0j) * YY,\n",
      "  (0.5+0j) * ZZ\n",
      "])\n"
     ]
    }
   ],
   "source": [
    "H = np.array([\n",
    "    [1, 0, 0, 0], \n",
    "    [0, 0, -1, 0],\n",
    "    [0, -1, 0, 0], \n",
    "    [0, 0, 0, 1]\n",
    "])\n",
    "\n",
    "Hop = to_pauli_op(H)\n",
    "print(Hop)"
   ]
  },
  {
   "cell_type": "code",
   "execution_count": 4,
   "metadata": {},
   "outputs": [],
   "source": [
    "def ansatz(qc, params):\n",
    "    qc.h(0)\n",
    "    qc.cx(0, 1)\n",
    "    qc.rx(params[0], 0)\n",
    "    \n",
    "\n",
    "def rot_measure(qc, term):\n",
    "    label = term.primitive.to_label()\n",
    "    for i, g in enumerate(label):\n",
    "        {\n",
    "            'I': lambda: None,\n",
    "            'X': lambda: qc.u2(0, np.pi, i),\n",
    "            'Y': lambda: qc.u2(0, np.pi/2, i),\n",
    "            'Z': lambda: None\n",
    "        }[g]()\n",
    "        "
   ]
  },
  {
   "cell_type": "code",
   "execution_count": 5,
   "metadata": {},
   "outputs": [],
   "source": [
    "def term_circuit(term, params, varform=ansatz):\n",
    "    qc = QuantumCircuit(term.num_qubits)\n",
    "\n",
    "    varform(qc, params)\n",
    "    qc.barrier()\n",
    "\n",
    "    rot_measure(qc, term)\n",
    "    qc.measure_all()\n",
    "\n",
    "    return qc\n",
    "\n",
    "def state_to_value(state):\n",
    "    v = 1\n",
    "    for s in state:\n",
    "        v *= 1 if s=='0' else -1\n",
    "    return v\n",
    "\n",
    "def process_I(Hop):\n",
    "    In = I^Hop.num_qubits\n",
    "    \n",
    "    ops = []\n",
    "    eI = 0\n",
    "    for op in Hop:\n",
    "        if op.primitive == In.primitive:\n",
    "            eI = op.coeff\n",
    "        else:\n",
    "            ops.append(op)\n",
    "    return eI, sum(ops)   \n",
    "\n",
    "def energy(Hop, varform, params, shots):\n",
    "    e, Hs = process_I(Hop)\n",
    "    circuits = [term_circuit(op, params, varform) for op in Hop]\n",
    "    for op, qc in zip(Hop, circuits):\n",
    "        job = execute(qc, Aer.get_backend('qasm_simulator'), shots=shots)\n",
    "        counts = job.result().get_counts()\n",
    "        e_i = 0\n",
    "        for state, freq in counts.items():\n",
    "            e_i += state_to_value(state) * freq / shots\n",
    "        e += op.coeff * e_i\n",
    "    return e"
   ]
  },
  {
   "cell_type": "code",
   "execution_count": 6,
   "metadata": {
    "scrolled": true
   },
   "outputs": [],
   "source": [
    "def vqe(Hop, varform=ansatz, shots=100):\n",
    "    es = []\n",
    "    for i in range(1000):\n",
    "        t = 2*np.pi*i/1000\n",
    "        e = energy(Hop, varform, [t], shots)\n",
    "        es.append(e)\n",
    "        \n",
    "    return es"
   ]
  },
  {
   "cell_type": "code",
   "execution_count": 7,
   "metadata": {},
   "outputs": [
    {
     "data": {
      "text/plain": [
       "[<matplotlib.lines.Line2D at 0x7f4569f0fdf0>]"
      ]
     },
     "execution_count": 7,
     "metadata": {},
     "output_type": "execute_result"
    },
    {
     "data": {
      "image/png": "[encoded data removed]",
      "text/plain": [
       "<Figure size 432x288 with 1 Axes>"
      ]
     },
     "metadata": {
      "needs_background": "light"
     },
     "output_type": "display_data"
    }
   ],
   "source": [
    "es = [e.real for e in vqe(Hop, shots=1000)]\n",
    "plt.plot(es)"
   ]
  },
  {
   "cell_type": "code",
   "execution_count": 8,
   "metadata": {
    "scrolled": true
   },
   "outputs": [
    {
     "name": "stdout",
     "output_type": "stream",
     "text": [
      "-1.5 -1.0000000000000002\n",
      "error 0.4999999999999998\n"
     ]
    }
   ],
   "source": [
    "from qiskit.aqua.algorithms import NumPyEigensolver\n",
    "\n",
    "real = NumPyEigensolver(Hop).run()\n",
    "real['eigenvalues']\n",
    "\n",
    "found_eig = min(es)\n",
    "real_eig = min([e.real for e in real['eigenvalues']])\n",
    "\n",
    "print(found_eig, real_eig)\n",
    "print('error', abs(found_eig-real_eig))"
   ]
  },
  {
   "cell_type": "code",
   "execution_count": 9,
   "metadata": {
    "scrolled": true
   },
   "outputs": [
    {
     "data": {
      "text/plain": [
       "[<matplotlib.lines.Line2D at 0x7f4569cf01c0>]"
      ]
     },
     "execution_count": 9,
     "metadata": {},
     "output_type": "execute_result"
    },
    {
     "data": {
      "image/png": "[encoded data removed]",
      "text/plain": [
       "<Figure size 432x288 with 1 Axes>"
      ]
     },
     "metadata": {
      "needs_background": "light"
     },
     "output_type": "display_data"
    }
   ],
   "source": [
    "def little_var(qc, params):\n",
    "    qc.ry(params[0], 0)\n",
    "\n",
    "h = np.array([\n",
    "    [3, 1],\n",
    "    [1, -1]\n",
    "])\n",
    "hop = to_pauli_op(h)\n",
    "es = [e.real for e in vqe(hop, little_var, shots=10000)]\n",
    "plt.plot(es)"
   ]
  },
  {
   "cell_type": "code",
   "execution_count": 10,
   "metadata": {},
   "outputs": [
    {
     "name": "stdout",
     "output_type": "stream",
     "text": [
      "SummedOp([\n",
      "  I,\n",
      "  X,\n",
      "  (2+0j) * Z\n",
      "])\n",
      "-2.1852 -1.2360679774997896\n",
      "error 0.9491320225002104\n"
     ]
    }
   ],
   "source": [
    "print(hop)\n",
    "\n",
    "real = NumPyEigensolver(hop).run()\n",
    "real['eigenvalues']\n",
    "\n",
    "found_eig = min(es)\n",
    "real_eig = min([e.real for e in real['eigenvalues']])\n",
    "\n",
    "print(found_eig, real_eig)\n",
    "print('error', abs(found_eig-real_eig))"
   ]
  },
  {
   "cell_type": "code",
   "execution_count": null,
   "metadata": {},
   "outputs": [],
   "source": []
  }
 ],
 "metadata": {
  "kernelspec": {
   "display_name": "Python 3",
   "language": "python",
   "name": "python3"
  },
  "language_info": {
   "codemirror_mode": {
    "name": "ipython",
    "version": 3
   },
   "file_extension": ".py",
   "mimetype": "text/x-python",
   "name": "python",
   "nbconvert_exporter": "python",
   "pygments_lexer": "ipython3",
   "version": "3.8.5"
  }
 },
 "nbformat": 4,
 "nbformat_minor": 4
}
