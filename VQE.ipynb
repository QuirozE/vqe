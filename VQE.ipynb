{
 "cells": [
  {
   "cell_type": "markdown",
   "metadata": {},
   "source": [
    "# Variational Quantum Eigensolver\n",
    "\n",
    "This method allows us to approximate the lowest eigenvalue of a Hamiltonian.\n",
    "\n",
    "This is done by optimizing the parameters of a specific quantum circuit to obtain the minimum energy.\n",
    "\n",
    "It is particulary useful because it is quite robust to noise and doesn't require many qubits, so it can be implemented in current devices. And finding the eigenvalues has several applications in chemestry and material science.\n",
    "\n",
    "As an example, lets take the following matrix.\n",
    "$$\n",
    "\\begin{pmatrix}\n",
    "    1 & 0 & 0 & 0 \\\\\n",
    "    0 & 0 & -1 & 0 \\\\\n",
    "    0 & -1 & 0 & 0 \\\\\n",
    "    0 & 0 & 0 & 1\n",
    "\\end{pmatrix}\n",
    "$$"
   ]
  },
  {
   "cell_type": "markdown",
   "metadata": {},
   "source": [
    "First, we import the requires libraries. `QuantumCircuit` is exactly what is sounds like.\n",
    "`Aer` and `execute` are used to run the quantum circuits.\n",
    "\n",
    "`I, X, Y` and `Z` are the [Pauli gates](https://qiskit.org/textbook/ch-states/single-qubit-gates.html#pauli).\n",
    "These are a set of $2\\times 2$ matrices with very useful propetrties.\n",
    "They will be used to transform the given matrix into a form that is encodable into quantum circuits.\n",
    "\n",
    "Finally, `numpy` and `matplotlib` will be used to manage matrices and to create plots."
   ]
  },
  {
   "cell_type": "code",
   "execution_count": 1,
   "metadata": {},
   "outputs": [],
   "source": [
    "from qiskit import QuantumCircuit, Aer, execute\n",
    "from qiskit.aqua.operators import I, X, Y, Z\n",
    "import numpy as np\n",
    "from matplotlib import pyplot as plt"
   ]
  },
  {
   "cell_type": "markdown",
   "metadata": {},
   "source": [
    "Then, we define the matrix."
   ]
  },
  {
   "cell_type": "code",
   "execution_count": 2,
   "metadata": {},
   "outputs": [
    {
     "data": {
      "text/plain": [
       "array([[ 1,  0,  0,  0],\n",
       "       [ 0,  0, -1,  0],\n",
       "       [ 0, -1,  0,  0],\n",
       "       [ 0,  0,  0,  1]])"
      ]
     },
     "execution_count": 2,
     "metadata": {},
     "output_type": "execute_result"
    }
   ],
   "source": [
    "H = np.array([\n",
    "    [1, 0, 0, 0], \n",
    "    [0, 0, -1, 0],\n",
    "    [0, -1, 0, 0], \n",
    "    [0, 0, 0, 1]\n",
    "])\n",
    "H"
   ]
  },
  {
   "cell_type": "markdown",
   "metadata": {},
   "source": [
    "Now, the next step is to find the Pauli decomposition of the matrix."
   ]
  },
  {
   "cell_type": "markdown",
   "metadata": {},
   "source": [
    "## Pauli decomposition\n",
    "\n",
    "To encode the given Hamiltonian as some optimizable circuits, it must expressed as a sum of Pauli terms.\n",
    "A Pauli term is the product of Pauli gates.\n",
    "\n",
    "How do we do that?\n",
    "\n",
    "A first useful observation is that Pauli gates are a basis for the $2\\times 2$ matrices.\n",
    "While not obvious, the tensor product of basis is a basis.\n",
    "So the set of all Pauli terms of $n$ gates is a basis for the $2^n \\times 2^n$ matrices.\n",
    "\n",
    "Then, every matrix $H$ can be represented as a linear combination of Pauli terms.\n",
    "\n",
    "In other words, if $P_i$ is a Pauli term, the following equation always has solution\n",
    "\n",
    "$$\n",
    "H = c_1 P_1 + \\dots + c_{2^n} P_{2^n} =\n",
    "\\begin{pmatrix}\n",
    "    P_1 & \\dots & P_{2^n}\n",
    "\\end{pmatrix}\n",
    "\\begin{pmatrix}\n",
    "    c_1 \\\\\n",
    "    \\vdots \\\\\n",
    "    c_{2^n}\n",
    "\\end{pmatrix}\n",
    "= \\mathcal{P}\\vec{c}\n",
    "$$\n",
    "\n",
    "$\\mathcal{P}$ is a matrix of matrices. This can be defined because the space of matrices is also a vector space.\n",
    "In practice, we just need to find a representation of each matrix as a vector.\n",
    "The easiest way would be to 'flatten' each matrix into a vector.\n",
    "\n",
    "That is, the position $i, j$ of a $n \\times m$ matrix is mapped to the $ni+j$ position of a $mn$-dimentional vector."
   ]
  },
  {
   "cell_type": "markdown",
   "metadata": {},
   "source": [
    "To implement this, we first generate the Pauli basis. This is very straight forward. We just need to make the tensor product of all combinations of $n$ Pauli gates.\n",
    "\n",
    "_Note_: In `qiskit`, the tensor product is represented as `^`."
   ]
  },
  {
   "cell_type": "code",
   "execution_count": 3,
   "metadata": {},
   "outputs": [],
   "source": [
    "def pauli_basis(n):\n",
    "    from itertools import product\n",
    "    from functools import reduce\n",
    "    \n",
    "    basis1 = [I, X, Y, Z]\n",
    "    \n",
    "    basis_n_lists = product([g for g in basis1], repeat=n)\n",
    "    \n",
    "    basis_n = [reduce(lambda g, h: g^h, l) for l in basis_n_lists]\n",
    "\n",
    "    return basis_n"
   ]
  },
  {
   "cell_type": "markdown",
   "metadata": {},
   "source": [
    "Then, we solve the equation using `numpy`. `numpy` requieres $\\mathcal{P}$ as a matrix and $H$ as a vector.\n",
    "As explained before, we do this by 'flattening' the matrices."
   ]
  },
  {
   "cell_type": "code",
   "execution_count": 4,
   "metadata": {},
   "outputs": [],
   "source": [
    "def basis_change_matrix(M):\n",
    "    M_t = np.vstack(tuple(g.flatten() for g in M)) # we flatten the matrices and we stack them in a new matrix\n",
    "    return M_t.T\n",
    "\n",
    "def to_pauli_op(A):\n",
    "    from math import log2\n",
    "    \n",
    "    # making sure the matrix can be decomposed\n",
    "    n = log2(len(A)) \n",
    "    m, k = A.shape\n",
    "    if not n.is_integer() or m != k:\n",
    "        raise ValueError('Pauli decomposition is only possible for 2^n x 2^n matrices')\n",
    "    \n",
    "    basis_ops = pauli_basis(int(n)) # we compute the basis\n",
    "    \n",
    "    M = basis_change_matrix([op.to_matrix() for op in basis_ops]) # we find \\mathcal{P}\n",
    "    \n",
    "    coeffs = np.linalg.solve(M, A.flatten()) # we calculate \\vec{c}\n",
    "    \n",
    "    # and we build the linear combination\n",
    "    d = [c * op for c, op in zip(coeffs, basis_ops) if c != 0] \n",
    "\n",
    "    return sum(d)"
   ]
  },
  {
   "cell_type": "markdown",
   "metadata": {},
   "source": [
    "Then, we calculate the Pauli decomposition of the example matrix "
   ]
  },
  {
   "cell_type": "code",
   "execution_count": 5,
   "metadata": {},
   "outputs": [
    {
     "name": "stdout",
     "output_type": "stream",
     "text": [
      "SummedOp([\n",
      "  (0.5+0j) * II,\n",
      "  (-0.5+0j) * XX,\n",
      "  (-0.5-0j) * YY,\n",
      "  (0.5+0j) * ZZ\n",
      "])\n"
     ]
    }
   ],
   "source": [
    "Hop = to_pauli_op(H)\n",
    "print(Hop)"
   ]
  },
  {
   "cell_type": "markdown",
   "metadata": {},
   "source": [
    "## Circuit encoding\n",
    "\n",
    "Now, why it is useful to have the Pauli decomposition?\n",
    "\n",
    "Beacause if we can minimize the Pauli terms, minimizing their sum can be done with any classical optimization method.\n",
    "\n",
    "To do this, lets first focus on one qubit operators."
   ]
  },
  {
   "cell_type": "markdown",
   "metadata": {},
   "source": [
    "### Operators on one qubit\n",
    "\n",
    "For the identity, $\\langle \\psi | I | \\psi \\rangle = \\langle \\psi | \\psi \\rangle = \\|\\psi\\|^2=1$.\n",
    "So the expectation value is always 1 and it is not necessary to estimate it with a quantum circuit.\n",
    "\n",
    "Then lets focus on the $Z$ gate. It has eigenstates $|0\\rangle, |1\\rangle$ with corresponding $1, -1$ eigenvalues.\n",
    "\n",
    "So to find the expected energy of a qubit $Z|\\psi\\rangle$, we would have to average all the measurements, where each $|0\\rangle$ has energy 1 and each $|1\\rangle$ energy -1.\n",
    "\n",
    "However, most current devices only allow measurements in the computational basis $|0\\rangle, |1\\rangle$. Then, what can we do about operators with eigenstates different from the omputational basis?\n",
    "\n",
    "We just have to change the basis at the end, just before the measurements.\n",
    "\n",
    "That is, if $|s_0\\rangle, |s_1\\rangle$ are the eigenstates, we have to find an operator $C$ such that\n",
    "\n",
    "$$\n",
    "    C|s_0\\rangle = |0\\rangle \\\\\n",
    "    C|s_1\\rangle = |1\\rangle \\\\\n",
    "$$\n",
    "\n",
    "For $Y$ and $X$, this process is not hard, but it is a little bit long. A detailed derivation can be found [here](https://github.com/DavitKhach/quantum-algorithms-tutorials/blob/master/variational_quantum_eigensolver.ipynb).\n",
    "\n",
    "Suffice to say, the operators are\n",
    "\n",
    "$$\n",
    "C_X = \\frac{1}{\\sqrt{2}}\\begin{pmatrix}\n",
    "    1 & 1 \\\\\n",
    "    1 & -1\n",
    "\\end{pmatrix} \\quad\n",
    "C_Y = \\frac{1}{\\sqrt{2}}\\begin{pmatrix}\n",
    "    1 & -i \\\\\n",
    "    1 & i\n",
    "\\end{pmatrix}\n",
    "$$"
   ]
  },
  {
   "cell_type": "markdown",
   "metadata": {},
   "source": [
    "### Operators on more than one qubit\n",
    "\n",
    "The eigenstates of $A \\otimes B$ are all the posible tenson products of eigenstates of $A$ and eigenstates of $B$.\n",
    "In the same manner, the eigenvalues are just the product of the eigenvalues.\n",
    "\n",
    "As $A \\otimes B$ acts independenly on each qubit, then is is enough to follow the treat each Pauli gate in the term as described above. "
   ]
  },
  {
   "cell_type": "code",
   "execution_count": 6,
   "metadata": {},
   "outputs": [],
   "source": [
    "def rot_measure(qc, term):\n",
    "    label = term.primitive.to_label() # is there a better way to iterate through the tensor product terms? maybe, but i didn't find it\n",
    "    for i, g in enumerate(label):\n",
    "        {\n",
    "            'I': lambda: None, # we can ignore the gate if it appears in the tensor product\n",
    "            # we use the U2 gate to implement C_X and C_Y\n",
    "            'X': lambda: qc.u2(0, np.pi, i),\n",
    "            'Y': lambda: qc.u2(0, np.pi/2, i),\n",
    "            'Z': lambda: None\n",
    "        }[g]()\n",
    "        \n",
    "def state_to_value(state):\n",
    "    # we get the eigenvalues of a given eigenstate (in the computational basis)\n",
    "    v = 1\n",
    "    for s in state:\n",
    "        v *= 1 if s=='0' else -1\n",
    "    return v"
   ]
  },
  {
   "cell_type": "markdown",
   "metadata": {},
   "source": [
    "For example, the rotation to measure $XY$ would be"
   ]
  },
  {
   "cell_type": "code",
   "execution_count": 7,
   "metadata": {},
   "outputs": [
    {
     "data": {
      "image/png": "[encoded data removed]",
      "text/plain": [
       "<Figure size 200.832x144.48 with 1 Axes>"
      ]
     },
     "execution_count": 7,
     "metadata": {},
     "output_type": "execute_result"
    }
   ],
   "source": [
    "qxy = QuantumCircuit(2)\n",
    "rot_measure(qxy, X^Y)\n",
    "qxy.draw(output='mpl')"
   ]
  },
  {
   "cell_type": "markdown",
   "metadata": {},
   "source": [
    "$I^{\\otimes n}$ still has expected value 1. So it has to be processed separately.\n",
    "In this function, we return the given hamiltonian with out the $I^{\\otimes n}$ term and the coefficient of that term."
   ]
  },
  {
   "cell_type": "code",
   "execution_count": 8,
   "metadata": {},
   "outputs": [],
   "source": [
    "def process_I(Hop):\n",
    "    In = I^Hop.num_qubits\n",
    "    \n",
    "    ops = []\n",
    "    eI = 0\n",
    "    for op in Hop:\n",
    "        if op.primitive == In.primitive:\n",
    "            eI = op.coeff\n",
    "        else:\n",
    "            ops.append(op)\n",
    "    return eI, sum(ops) "
   ]
  },
  {
   "cell_type": "markdown",
   "metadata": {},
   "source": [
    "## Variational form"
   ]
  },
  {
   "cell_type": "markdown",
   "metadata": {},
   "source": [
    "We can get the expeted energy for a qubit. How do we get the minimum?\n",
    "\n",
    "Searching through all possible qubits is inefficient. We have to restricti our search to a domain that we suspect has the minimum.\n",
    "\n",
    "To do this, we use variational forms. These are quantum circuits where some values are parametrized.\n",
    "\n",
    "Finding an appropiate variational form is hard problem in the field of Quantum Machine Learning.\n",
    "\n",
    "In this case, we use the following\n",
    "\n",
    "$$\n",
    "    (R_X(\\theta) \\otimes I) CNOT (H\\otimes I)\n",
    "$$\n",
    "\n",
    "Here, $R_X$ represents a rotations in the $X$ axis by an angle $\\theta$. This will be our only parameter."
   ]
  },
  {
   "cell_type": "code",
   "execution_count": 9,
   "metadata": {
    "scrolled": true
   },
   "outputs": [
    {
     "data": {
      "image/png": "[encoded data removed]",
      "text/plain": [
       "<Figure size 321.232x144.48 with 1 Axes>"
      ]
     },
     "execution_count": 9,
     "metadata": {},
     "output_type": "execute_result"
    }
   ],
   "source": [
    "def ansatz(qc, params):\n",
    "    qc.h(0)\n",
    "    qc.cx(0, 1)\n",
    "    qc.rx(params[0], 0)\n",
    "    \n",
    "qanz = QuantumCircuit(2)\n",
    "ansatz(qanz, [np.pi])\n",
    "qanz.draw(output='mpl')"
   ]
  },
  {
   "cell_type": "markdown",
   "metadata": {},
   "source": [
    "## Putting everything together\n",
    "\n",
    "For a trial set of parameters, we mesh together the variational form, the rotation mesurements for each term and measure the qubits.\n",
    " \n",
    "Then, we execute all the circuits a given number of times to estimate their expected energy.\n",
    "We multiply this by the coefficient of the term in the decomposition, and we sum all.\n",
    "\n",
    "The result is the spected value for the given parameters.\n",
    "\n",
    "Then, we could use any classical technique to optimize the given parameters."
   ]
  },
  {
   "cell_type": "code",
   "execution_count": 10,
   "metadata": {},
   "outputs": [],
   "source": [
    "def term_circuit(term, params, varform=ansatz):\n",
    "    qc = QuantumCircuit(term.num_qubits)\n",
    "\n",
    "    varform(qc, params)\n",
    "    qc.barrier()\n",
    "\n",
    "    rot_measure(qc, term)\n",
    "    qc.measure_all()\n",
    "\n",
    "    return qc\n",
    "\n",
    "def energy(Hop, varform, params, shots):\n",
    "    e, Hs = process_I(Hop) # processing I independently\n",
    "    \n",
    "    circuits = [term_circuit(op, params, varform) for op in Hop] # creating circuits for each term\n",
    "    \n",
    "    for op, qc in zip(Hop, circuits):\n",
    "        job = execute(qc, Aer.get_backend('qasm_simulator'), shots=shots)\n",
    "        counts = job.result().get_counts()\n",
    "        \n",
    "        e_i = 0\n",
    "        for state, freq in counts.items():\n",
    "            # multiplying the normalized frecuency by the eigenvalue\n",
    "            e_i += state_to_value(state) * freq / shots \n",
    "\n",
    "        # multiplying the energy of the circuit by the term coefficient and adding it to the total energy\n",
    "        e += op.coeff * e_i \n",
    "    return e"
   ]
  },
  {
   "cell_type": "markdown",
   "metadata": {},
   "source": [
    "For example, the full circuit to measure $XY$ with an $X$ rotation of $\\pi$ would be"
   ]
  },
  {
   "cell_type": "code",
   "execution_count": 11,
   "metadata": {},
   "outputs": [
    {
     "data": {
      "image/png": "[encoded data removed]",
      "text/plain": [
       "<Figure size 652.659x204.68 with 1 Axes>"
      ]
     },
     "execution_count": 11,
     "metadata": {},
     "output_type": "execute_result"
    }
   ],
   "source": [
    "qxy_full = term_circuit(X^Y, [np.pi])\n",
    "qxy_full.draw(output='mpl')"
   ]
  },
  {
   "cell_type": "markdown",
   "metadata": {},
   "source": [
    "As we only have one parameter, the different energy states can visualized in a $2d$-plot.\n",
    "\n",
    "So instead of using a classical optimization technique, we can plot the whole energy spectrum.\n",
    "\n",
    "Naturally, this wouldn't be practical in a real example."
   ]
  },
  {
   "cell_type": "code",
   "execution_count": 12,
   "metadata": {
    "scrolled": true
   },
   "outputs": [],
   "source": [
    "def vqe(Hop, varform=ansatz, shots=1000, steps=1000):\n",
    "    es = []\n",
    "    for i in range(steps):\n",
    "        t = 2*np.pi*i/steps\n",
    "        e = energy(Hop, varform, [t], shots)\n",
    "        es.append(e)\n",
    "        \n",
    "    return es"
   ]
  },
  {
   "cell_type": "code",
   "execution_count": 13,
   "metadata": {},
   "outputs": [
    {
     "data": {
      "text/plain": [
       "[<matplotlib.lines.Line2D at 0x7fbafe22f7f0>]"
      ]
     },
     "execution_count": 13,
     "metadata": {},
     "output_type": "execute_result"
    },
    {
     "data": {
      "image/png": "[encoded data removed]",
      "text/plain": [
       "<Figure size 432x288 with 1 Axes>"
      ]
     },
     "metadata": {
      "needs_background": "light"
     },
     "output_type": "display_data"
    }
   ],
   "source": [
    "es = [e.real for e in vqe(Hop)]\n",
    "plt.plot(es)"
   ]
  },
  {
   "cell_type": "markdown",
   "metadata": {},
   "source": [
    "Finally, how off were we in the estimation?\n",
    "\n",
    "`qiskit` exposes an exact eingensolver using numpy. We can calculate the real value of our hamiltonian very easily."
   ]
  },
  {
   "cell_type": "code",
   "execution_count": 14,
   "metadata": {
    "scrolled": true
   },
   "outputs": [
    {
     "name": "stdout",
     "output_type": "stream",
     "text": [
      "found: -1.5\n",
      "real: -1.0000000000000002\n",
      "error 0.4999999999999998\n"
     ]
    }
   ],
   "source": [
    "from qiskit.aqua.algorithms import NumPyEigensolver\n",
    "\n",
    "real = NumPyEigensolver(Hop).run()\n",
    "\n",
    "found_eig = min(es)\n",
    "real_eig = min([e.real for e in real['eigenvalues']])\n",
    "\n",
    "print('found:', found_eig)\n",
    "print('real:', real_eig)\n",
    "print('error', abs(found_eig-real_eig))"
   ]
  },
  {
   "cell_type": "markdown",
   "metadata": {},
   "source": [
    "## References\n",
    "* https://www.mustythoughts.com/variational-quantum-eigensolver-explained\n",
    "* https://github.com/DavitKhach/quantum-algorithms-tutorials/blob/master/variational_quantum_eigensolver.ipynb"
   ]
  }
 ],
 "metadata": {
  "kernelspec": {
   "display_name": "Python 3",
   "language": "python",
   "name": "python3"
  },
  "language_info": {
   "codemirror_mode": {
    "name": "ipython",
    "version": 3
   },
   "file_extension": ".py",
   "mimetype": "text/x-python",
   "name": "python",
   "nbconvert_exporter": "python",
   "pygments_lexer": "ipython3",
   "version": "3.8.5"
  }
 },
 "nbformat": 4,
 "nbformat_minor": 4
}
